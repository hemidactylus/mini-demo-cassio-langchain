{
 "cells": [
  {
   "cell_type": "markdown",
   "id": "cc6dea22-ae86-4148-88af-efa1756dea99",
   "metadata": {},
   "source": [
    "# CassIO, mini demo"
   ]
  },
  {
   "cell_type": "code",
   "execution_count": 1,
   "id": "97b458fc-e3d5-42d5-b568-01296ebd1750",
   "metadata": {},
   "outputs": [],
   "source": [
    "import os\n",
    "import cassio"
   ]
  },
  {
   "cell_type": "markdown",
   "id": "2eae70f6-0ce2-4e7e-8a2a-91e4800ac77a",
   "metadata": {},
   "source": [
    "## Initialize"
   ]
  },
  {
   "cell_type": "code",
   "execution_count": 2,
   "id": "fa0f84f3-ef8b-4df7-8e1e-f7e827dbe9bc",
   "metadata": {},
   "outputs": [
    {
     "name": "stdout",
     "output_type": "stream",
     "text": [
      "token       = AstraCS:fZuF ...\n",
      "database_id = 4f83 ...\n"
     ]
    }
   ],
   "source": [
    "token = os.environ['ASTRA_DB_APPLICATION_TOKEN']\n",
    "database_id = os.environ['ASTRA_DB_DATABASE_ID']\n",
    "\n",
    "#print(f\"OPENAI_API_KEY             = {os.environ['OPENAI_API_KEY'][:6]} ...\")\n",
    "print(f\"token       = {token[:12]} ...\")\n",
    "print(f\"database_id = {database_id[:4]} ...\")"
   ]
  },
  {
   "cell_type": "code",
   "execution_count": 3,
   "id": "18216058-bcb9-4a48-9591-49faaf4c8c35",
   "metadata": {},
   "outputs": [],
   "source": [
    "cassio.init(token=token, database_id=database_id)"
   ]
  },
  {
   "cell_type": "code",
   "execution_count": 4,
   "id": "923deee0-eff7-40b0-a938-995d1d62e6a5",
   "metadata": {},
   "outputs": [],
   "source": [
    "from langchain.embeddings import OpenAIEmbeddings\n",
    "emb_fun = OpenAIEmbeddings()"
   ]
  },
  {
   "cell_type": "markdown",
   "id": "0a6bf057-b574-4fca-be43-8b89075634a1",
   "metadata": {},
   "source": [
    "## CassIO layer\n",
    "\n",
    "### Create a vector store and put a couple of items"
   ]
  },
  {
   "cell_type": "code",
   "execution_count": 5,
   "id": "ef934b53-7f90-4bdf-8021-991ef9bf9ca3",
   "metadata": {},
   "outputs": [],
   "source": [
    "v_store = cassio.table.VectorCassandraTable(table=\"demo_v_store\", vector_dimension=1536)"
   ]
  },
  {
   "cell_type": "code",
   "execution_count": 6,
   "id": "71a1ac8a-5287-4c7b-bac4-b3ab47231e59",
   "metadata": {},
   "outputs": [],
   "source": [
    "docs = [\n",
    "    \"The cat is on the table\",\n",
    "    \"Please store the appliance safely when not using it\",\n",
    "    \"All happy families are alike, each unhappy family is unhappy in its own way\",\n",
    "]"
   ]
  },
  {
   "cell_type": "code",
   "execution_count": 7,
   "id": "58629620-b961-4b86-b00c-8745e25a8ed8",
   "metadata": {},
   "outputs": [
    {
     "name": "stdout",
     "output_type": "stream",
     "text": [
      "Inserted 'The cat is on the table'\n",
      "Inserted 'Please store the appliance safely when not using it'\n",
      "Inserted 'All happy families are alike, each unhappy family is unhappy in its own way'\n"
     ]
    }
   ],
   "source": [
    "for i, txt in enumerate(docs):\n",
    "    v_store.put(row_id=f\"row{i}\", body_blob=txt, vector=emb_fun.embed_query(txt))\n",
    "    print(f\"Inserted '{txt}'\")"
   ]
  },
  {
   "cell_type": "markdown",
   "id": "deb11629-90b4-4f15-abef-cfb088cff941",
   "metadata": {},
   "source": [
    "### Run an ANN search"
   ]
  },
  {
   "cell_type": "code",
   "execution_count": 8,
   "id": "d64229f3-2dfe-41d2-819c-94eb661b7974",
   "metadata": {},
   "outputs": [
    {
     "name": "stdout",
     "output_type": "stream",
     "text": [
      "Query: 'Is a feline found around here?'\n",
      "Result(s):\n",
      "    [row0]: 'The cat is on the table'\n"
     ]
    }
   ],
   "source": [
    "query = \"Is a feline found around here?\"\n",
    "\n",
    "results = v_store.ann_search(n=1, vector=emb_fun.embed_query(query))\n",
    "\n",
    "print(f\"Query: '{query}'\")\n",
    "print(\"Result(s):\")\n",
    "for r in results:\n",
    "    print(f\"    [{r['row_id']}]: '{r['body_blob']}'\")"
   ]
  },
  {
   "cell_type": "markdown",
   "id": "15cc3759-942d-4d7b-9d60-18f81b2cb9eb",
   "metadata": {},
   "source": [
    "## LangChain layer"
   ]
  },
  {
   "cell_type": "code",
   "execution_count": 9,
   "id": "a0f3cbb4-9f7c-4fa3-a3ee-2de052bc8ed7",
   "metadata": {},
   "outputs": [],
   "source": [
    "from langchain.llms import OpenAI\n",
    "\n",
    "llm = OpenAI()"
   ]
  },
  {
   "cell_type": "markdown",
   "id": "31aeaf5f-9f15-49f9-abc5-9310add7bf73",
   "metadata": {},
   "source": [
    "### Set a cache for LLMs"
   ]
  },
  {
   "cell_type": "code",
   "execution_count": 10,
   "id": "c959e18e-ee5a-4e93-b8e7-69aa0933af4d",
   "metadata": {},
   "outputs": [],
   "source": [
    "from langchain.cache import CassandraCache  # CassandraSemanticCache available as well...\n",
    "\n",
    "import langchain\n",
    "langchain.llm_cache = CassandraCache()"
   ]
  },
  {
   "cell_type": "markdown",
   "id": "28ef7f95-d59b-474d-9e66-f8c47485808d",
   "metadata": {},
   "source": [
    "#### First time"
   ]
  },
  {
   "cell_type": "code",
   "execution_count": 11,
   "id": "cfa14224-a851-41ab-85b4-5a6614e7fa92",
   "metadata": {},
   "outputs": [
    {
     "name": "stdout",
     "output_type": "stream",
     "text": [
      "In a military or nautical context, “all hands” is a call to all personnel to attend a meeting or to perform a task. It is a term used to summon the entire crew to assemble on deck.\n",
      "\n",
      "CPU times: user 12.5 ms, sys: 239 µs, total: 12.8 ms\n",
      "Wall time: 1.68 s\n"
     ]
    }
   ],
   "source": [
    "%%time\n",
    "print(llm(\"What does 'All Hands' mean?\").strip() + \"\\n\")"
   ]
  },
  {
   "cell_type": "markdown",
   "id": "4aff5937-4b28-4a62-b300-2b187fb8819a",
   "metadata": {},
   "source": [
    "#### Again..."
   ]
  },
  {
   "cell_type": "code",
   "execution_count": 12,
   "id": "0421497e-620c-449b-87bf-ebc2ecd2d534",
   "metadata": {},
   "outputs": [
    {
     "name": "stdout",
     "output_type": "stream",
     "text": [
      "In a military or nautical context, “all hands” is a call to all personnel to attend a meeting or to perform a task. It is a term used to summon the entire crew to assemble on deck.\n",
      "\n",
      "CPU times: user 3.67 ms, sys: 0 ns, total: 3.67 ms\n",
      "Wall time: 119 ms\n"
     ]
    }
   ],
   "source": [
    "%%time\n",
    "print(llm(\"What does 'All Hands' mean?\").strip() + \"\\n\")"
   ]
  },
  {
   "cell_type": "markdown",
   "id": "0e533216-3e86-4941-a4a4-b18cd180577a",
   "metadata": {},
   "source": [
    "## (cleanup)"
   ]
  },
  {
   "cell_type": "code",
   "execution_count": 13,
   "id": "fefcdc59-118c-41fc-95e6-31c718219815",
   "metadata": {},
   "outputs": [],
   "source": [
    "v_store.clear()"
   ]
  },
  {
   "cell_type": "code",
   "execution_count": 14,
   "id": "e1a0bb8f-a7da-486e-b6c3-a0223d61f534",
   "metadata": {},
   "outputs": [],
   "source": [
    "langchain.llm_cache.clear()"
   ]
  }
 ],
 "metadata": {
  "kernelspec": {
   "display_name": "Python 3 (ipykernel)",
   "language": "python",
   "name": "python3"
  },
  "language_info": {
   "codemirror_mode": {
    "name": "ipython",
    "version": 3
   },
   "file_extension": ".py",
   "mimetype": "text/x-python",
   "name": "python",
   "nbconvert_exporter": "python",
   "pygments_lexer": "ipython3",
   "version": "3.10.12"
  }
 },
 "nbformat": 4,
 "nbformat_minor": 5
}
