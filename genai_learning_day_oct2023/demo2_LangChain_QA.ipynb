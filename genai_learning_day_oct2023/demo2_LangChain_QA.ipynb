{
 "cells": [
  {
   "cell_type": "markdown",
   "id": "336212f7-b5c9-4110-965e-7ca2e18b5a5f",
   "metadata": {},
   "source": [
    "# Demo 2 (LangChain, QA)"
   ]
  },
  {
   "cell_type": "code",
   "execution_count": 1,
   "id": "9531bbed-a31f-4017-8e5f-4b2b46947f44",
   "metadata": {},
   "outputs": [],
   "source": [
    "import os\n",
    "import cassio\n",
    "\n",
    "cassio.init(\n",
    "    token=os.environ['ASTRA_DB_APPLICATION_TOKEN'],\n",
    "    database_id=os.environ['ASTRA_DB_ID'],\n",
    "    keyspace=os.environ.get('ASTRA_DB_KEYSPACE'),\n",
    ")"
   ]
  },
  {
   "cell_type": "code",
   "execution_count": 2,
   "id": "e695cbc7-8308-486b-a2b1-1ddcd925b148",
   "metadata": {},
   "outputs": [],
   "source": [
    "from langchain.embeddings.openai import OpenAIEmbeddings\n",
    "from langchain.llms import OpenAI\n",
    "from langchain.vectorstores import Cassandra"
   ]
  },
  {
   "cell_type": "code",
   "execution_count": 3,
   "id": "32a197e6-7eb3-4239-9192-c8ba424951c9",
   "metadata": {},
   "outputs": [],
   "source": [
    "oai_embeddings = OpenAIEmbeddings()\n",
    "oai_llm = OpenAI()"
   ]
  },
  {
   "cell_type": "code",
   "execution_count": 4,
   "id": "380d4055-b6c4-4799-8357-84ec1643152e",
   "metadata": {},
   "outputs": [],
   "source": [
    "demo2_qa_store = Cassandra(\n",
    "    table_name='news_v_store',\n",
    "    embedding=oai_embeddings,\n",
    "    session=None,  # = get defaults from init()\n",
    "    keyspace=None,  # = get defaults from init()\n",
    ")"
   ]
  },
  {
   "cell_type": "markdown",
   "id": "650cc6c0-95b8-449c-b987-024d0043e6b9",
   "metadata": {},
   "source": [
    "## Insert texts\n",
    "\n",
    "Let's use something so new that no LLM can possibly have been trained on that:"
   ]
  },
  {
   "cell_type": "code",
   "execution_count": 5,
   "id": "ff98783a-fa05-4897-b9e4-95d066014a88",
   "metadata": {},
   "outputs": [],
   "source": [
    "from langchain.document_loaders import AsyncHtmlLoader\n",
    "from langchain.document_transformers import Html2TextTransformer\n",
    "from langchain.text_splitter import RecursiveCharacterTextSplitter"
   ]
  },
  {
   "cell_type": "code",
   "execution_count": 6,
   "id": "c00bb0ea-d58f-4d44-8412-3a6f28e53783",
   "metadata": {},
   "outputs": [],
   "source": [
    "src_url = 'https://www.cbsnews.com/news/nobel-prize-physics-2023-blurry-glimpse-zooming-electrons-in-atom/'"
   ]
  },
  {
   "cell_type": "markdown",
   "id": "d9dc8eca-8010-4d1b-86f1-ffa7aef82673",
   "metadata": {},
   "source": [
    "### Note the handy, if a bit convoluted, tools to scrape and vectorize Web pages:"
   ]
  },
  {
   "cell_type": "code",
   "execution_count": 7,
   "id": "243895b4-f806-4be1-a6cf-ddeeb0bf9bc2",
   "metadata": {},
   "outputs": [
    {
     "name": "stderr",
     "output_type": "stream",
     "text": [
      "Fetching pages: 100%|#################################################################################################################| 1/1 [00:00<00:00,  3.56it/s]"
     ]
    },
    {
     "name": "stdout",
     "output_type": "stream",
     "text": [
      "25 document chunks obtained.\n"
     ]
    },
    {
     "name": "stderr",
     "output_type": "stream",
     "text": [
      "\n"
     ]
    }
   ],
   "source": [
    "html2text = Html2TextTransformer()\n",
    "splitter = RecursiveCharacterTextSplitter(chunk_size=500, chunk_overlap=80)\n",
    "\n",
    "loader = AsyncHtmlLoader([src_url])\n",
    "docs = loader.load()\n",
    "\n",
    "docs_cleaned = html2text.transform_documents(docs)\n",
    "\n",
    "chunks = splitter.split_documents(docs_cleaned)\n",
    "\n",
    "print(f\"{len(chunks)} document chunks obtained.\")"
   ]
  },
  {
   "cell_type": "code",
   "execution_count": 9,
   "id": "89c740d9-676f-40a3-bf12-7e806ca55e25",
   "metadata": {},
   "outputs": [
    {
     "data": {
      "text/plain": [
       "Document(page_content='But even when they \"see\" the electron, there\\'s only so much they can view.\\n\\n\"You can see whether it\\'s on the one side of a molecule or on the other,\"\\nL\\'Huillier, 65, said. \"It\\'s still very blurry.\"\\n\\n\"The electrons are much more like waves, like water waves, than particles and\\nwhat we try to measure with our technique is the position of the crest of the\\nwaves,\" she added.', metadata={'source': 'https://www.cbsnews.com/news/nobel-prize-physics-2023-blurry-glimpse-zooming-electrons-in-atom/'})"
      ]
     },
     "execution_count": 9,
     "metadata": {},
     "output_type": "execute_result"
    }
   ],
   "source": [
    "# example chunk:\n",
    "chunks[13]"
   ]
  },
  {
   "cell_type": "code",
   "execution_count": 8,
   "id": "6f216f2c-4183-4a87-b4f7-89ef17b22369",
   "metadata": {},
   "outputs": [],
   "source": [
    "_ = demo2_qa_store.add_documents(chunks)"
   ]
  },
  {
   "cell_type": "code",
   "execution_count": 10,
   "id": "0d21d149-95d2-4b1a-93c7-551ca28b0f0b",
   "metadata": {},
   "outputs": [],
   "source": [
    "from langchain.indexes.vectorstore import VectorStoreIndexWrapper\n",
    "\n",
    "index = VectorStoreIndexWrapper(vectorstore=demo2_qa_store)"
   ]
  },
  {
   "cell_type": "code",
   "execution_count": 12,
   "id": "3c77b0fb-d2f7-4a4b-ab47-eb5716c4c00b",
   "metadata": {},
   "outputs": [
    {
     "name": "stdout",
     "output_type": "stream",
     "text": [
      " Pierre Agostini, Ferenc Krausz, and Anne L'Huillier, \n",
      "For their work on electrons in atoms, they won Nobel Prize in physics.\n",
      "They uncovered secrets of the tiny parts, that are fundamental to our gadgets and hearts.\n",
      "Their experiments give us tools to explore, understanding our world evermore.\n"
     ]
    }
   ],
   "source": [
    "print(index.query(\n",
    "    (\n",
    "        \"Who won the 2023 Nobel Prize in physics, and for \"\n",
    "        \"what? Answer with a poem of max 80 words.\"\n",
    "    ),\n",
    "    llm=oai_llm,\n",
    "))"
   ]
  }
 ],
 "metadata": {
  "kernelspec": {
   "display_name": "Python 3 (ipykernel)",
   "language": "python",
   "name": "python3"
  },
  "language_info": {
   "codemirror_mode": {
    "name": "ipython",
    "version": 3
   },
   "file_extension": ".py",
   "mimetype": "text/x-python",
   "name": "python",
   "nbconvert_exporter": "python",
   "pygments_lexer": "ipython3",
   "version": "3.10.12"
  }
 },
 "nbformat": 4,
 "nbformat_minor": 5
}
