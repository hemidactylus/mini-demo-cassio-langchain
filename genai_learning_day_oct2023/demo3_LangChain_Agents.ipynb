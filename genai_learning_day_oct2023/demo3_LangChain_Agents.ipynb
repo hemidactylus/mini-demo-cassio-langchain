{
 "cells": [
  {
   "cell_type": "markdown",
   "id": "454003c3-7e0e-4a3c-8b7e-8142c8b8b150",
   "metadata": {},
   "source": [
    "# Demo 3 (LangChain, Agents)"
   ]
  },
  {
   "cell_type": "markdown",
   "id": "7e9b594f-d7a9-46ec-88f9-5cef4d12440a",
   "metadata": {},
   "source": [
    "We'll try to run a LangChain agent, able to interact with the world, perform a task\n",
    "with a [\"zero shot react\"](https://python.langchain.com/docs/modules/agents/agent_types/react.html#using-zeroshotreactagent) approach.\n",
    "\n",
    "We'll use the vanilla LangChain agent, but provide a set of custom tools to interact\n",
    "with a custom world (a set of boxes containing items to move)."
   ]
  },
  {
   "cell_type": "markdown",
   "id": "d16231e4-7202-433a-9aba-e9f959711bda",
   "metadata": {},
   "source": [
    "**Warning**: given the highly nondeterministic nature of this run, it might work or not,\n",
    "it might arrive at a different correct end state than expected, it might raise errors\n",
    "(and sometimes recover from it).\n",
    "\n",
    "These are mostly limitations of the agent power rather than LangChain's. Here we just want\n",
    "to illustrate a point about complex LLM usages and their ease with an LLM framework."
   ]
  },
  {
   "cell_type": "code",
   "execution_count": 1,
   "id": "160b2a5c-b1f8-4d6a-b11e-c0e70a85fc7b",
   "metadata": {},
   "outputs": [],
   "source": [
    "import os\n",
    "from langchain.tools import BaseTool\n",
    "from langchain.agents import AgentType, initialize_agent\n",
    "from langchain.callbacks.manager import (\n",
    "    AsyncCallbackManagerForToolRun,\n",
    "    CallbackManagerForToolRun,\n",
    ")\n",
    "from pydantic import Field\n",
    "from typing import Optional, Type"
   ]
  },
  {
   "cell_type": "markdown",
   "id": "e5d2bb14-353a-4114-a74c-4be128ea6bb0",
   "metadata": {},
   "source": [
    "### Our custom \"world\""
   ]
  },
  {
   "cell_type": "code",
   "execution_count": 2,
   "id": "60254eeb-d245-46d3-ac3f-87ac112c6cc9",
   "metadata": {},
   "outputs": [],
   "source": [
    "class BoxStorage():\n",
    "    def __init__(self, contents):\n",
    "        \"\"\" contents is something like {box -> set-of-strings }\"\"\"\n",
    "        self.boxes = {k.lower(): set(v) for k, v in contents.items()}\n",
    "    \n",
    "    def list_boxes(self): return list(self.boxes.keys())\n",
    "    \n",
    "    def list_box(self, box): return list(self.boxes[box])\n",
    "\n",
    "    def move_objects(self, objs, bfrom, bto, log=False):\n",
    "        assert bfrom in self.boxes\n",
    "        assert bto in self.boxes\n",
    "        if log:\n",
    "            print(f'[move_objects] Trying to move {str(objs)} from {bfrom}[{str(list(self.boxes[bfrom]))}] to {bto}[{str(list(self.boxes[bto]))}]')\n",
    "        for obj in objs:\n",
    "            assert(obj in self.boxes[bfrom])\n",
    "            self.boxes[bfrom] = self.boxes[bfrom] - {obj}\n",
    "            self.boxes[bto] = self.boxes[bto] | {obj}\n",
    "\n",
    "    def __repr__(self):\n",
    "        return 'BoxStorage[%s]' % (', '.join(\n",
    "            '%s=(%s)' % (k, ', '.join(sorted(v)))\n",
    "            for k, v in sorted(self.boxes.items())\n",
    "        ))"
   ]
  },
  {
   "cell_type": "markdown",
   "id": "91100c38-6402-48b5-a7f9-0f1859323571",
   "metadata": {},
   "source": [
    "### Demonstration"
   ]
  },
  {
   "cell_type": "code",
   "execution_count": 3,
   "id": "89919ff4-7da8-49e1-8f91-d542063e8bb6",
   "metadata": {},
   "outputs": [
    {
     "name": "stdout",
     "output_type": "stream",
     "text": [
      "Start:\n",
      "    BoxStorage[house=(couch, garbage, kid), school=(), sidewalk=(car, streetlight)]\n",
      "After bringing the kid to school:\n",
      "    BoxStorage[house=(couch, garbage), school=(kid), sidewalk=(car, streetlight)]\n",
      "After taking the trash out:\n",
      "    BoxStorage[house=(couch), school=(kid), sidewalk=(car, garbage, streetlight)]\n"
     ]
    }
   ],
   "source": [
    "test_storage = BoxStorage({\"house\": [\"garbage\", \"kid\", \"couch\"], \"school\": [], \"sidewalk\": [\"car\", \"streetlight\"]})\n",
    "\n",
    "print(f\"Start:\\n    {test_storage}\")\n",
    "\n",
    "test_storage.move_objects([\"kid\"], \"house\", \"school\")\n",
    "\n",
    "print(f\"After bringing the kid to school:\\n    {test_storage}\")\n",
    "\n",
    "test_storage.move_objects([\"garbage\"], \"house\", \"sidewalk\")\n",
    "\n",
    "print(f\"After taking the trash out:\\n    {test_storage}\")"
   ]
  },
  {
   "cell_type": "markdown",
   "id": "9e05b687-e297-49d9-906f-dc30943c54e5",
   "metadata": {},
   "source": [
    "## Define the \"tools\"\n",
    "\n",
    "These are classes wrapping functions with a special signature (and bound to an instance of the \"storage\").\n",
    "\n",
    "We opt for simple string input and try to parse it in the tool code itself:"
   ]
  },
  {
   "cell_type": "code",
   "execution_count": 4,
   "id": "4e27a9f1-c99d-4971-bbda-b38e14a73580",
   "metadata": {},
   "outputs": [],
   "source": [
    "class CustomListBoxesTool(BaseTool):\n",
    "    name = \"list_boxes\"\n",
    "    description = \"The tool to get a comma-separated list of available boxes. The input is ignored.\"\n",
    "    storage: BoxStorage = Field(exclude=True)\n",
    "    \n",
    "    def _run(self, query: str, run_manager: Optional[CallbackManagerForToolRun] = None) -> str:\n",
    "        \"\"\"Use the tool.\"\"\"\n",
    "        return ', '.join(self.storage.list_boxes())\n",
    "\n",
    "def _clean(tkn):\n",
    "    return tkn.replace(',', '').strip().lower()\n",
    "\n",
    "class CustomMoveObjectsTool(BaseTool):\n",
    "    name = \"move_object\"\n",
    "    description = \"\"\"This is the tool you use to physically move a space-separated list of objects from a box to another box.\n",
    "    The input must have the form \"MOVE object_name_1 object_name_2 ... FROM source_box TO destination_box\".\n",
    "    Each invocation can move a number of objects to exactly one box.\"\"\"\n",
    "    storage: BoxStorage = Field(exclude=True)\n",
    "    \n",
    "    def _run(self, query: str, run_manager: Optional[CallbackManagerForToolRun] = None) -> str:\n",
    "        \"\"\"Use the tool.\"\"\"\n",
    "        # an ugly syntax validation, lol\n",
    "        qchunks = [_clean(c) for c in query.split(' ') if _clean(c)]\n",
    "        fromIndex = [i for i, c in enumerate(qchunks) if c=='from'][0]\n",
    "        assert(qchunks[0].lower() == 'move')\n",
    "        assert(qchunks[fromIndex].lower() == 'from')\n",
    "        assert(qchunks[2 + fromIndex].lower() == 'to')\n",
    "        assert(len(qchunks) == 4 + fromIndex)\n",
    "        obs_to_move = set(qchunks[1:fromIndex])\n",
    "        bfrom = qchunks[1 + fromIndex]\n",
    "        bto = qchunks[3 + fromIndex]\n",
    "        self.storage.move_objects(obs_to_move, bfrom, bto)\n",
    "\n",
    "class CustomListBoxContentTool(BaseTool):\n",
    "    name = \"box_contents\"\n",
    "    description = \"The tool to get a comma-separated list of contents of a box. The input is the box name.\"\n",
    "    storage: BoxStorage = Field(exclude=True)\n",
    "\n",
    "    def _run(self, query: str, run_manager: Optional[CallbackManagerForToolRun] = None) -> str:\n",
    "        \"\"\"Use the tool.\"\"\"\n",
    "        return ', '.join(self.storage.list_box(_clean(query)))\n"
   ]
  },
  {
   "cell_type": "markdown",
   "id": "edd98342-2d85-45b1-9eaa-dcad8792929a",
   "metadata": {},
   "source": [
    "### The world starts like this:"
   ]
  },
  {
   "cell_type": "code",
   "execution_count": 5,
   "id": "d9fcfa4e-e686-4869-ad0e-4d8d4ad5cb1b",
   "metadata": {},
   "outputs": [
    {
     "name": "stdout",
     "output_type": "stream",
     "text": [
      "At the beginning: BoxStorage[box1=(apple, banana, pear), box2=(bicycle, car, train)]\n"
     ]
    }
   ],
   "source": [
    "storage = BoxStorage({'box1': {'apple','banana','pear'}, 'box2': {'car', 'bicycle', 'train'}})\n",
    "print(f'At the beginning: {storage}')"
   ]
  },
  {
   "cell_type": "markdown",
   "id": "188d338a-1d98-4e94-bd80-d6ccc1a8e843",
   "metadata": {},
   "source": [
    "### A toolkit for the agent"
   ]
  },
  {
   "cell_type": "code",
   "execution_count": 6,
   "id": "291889ac-4665-4502-b9af-b13326125bb6",
   "metadata": {},
   "outputs": [],
   "source": [
    "tools = [\n",
    "    CustomListBoxesTool(storage=storage),\n",
    "    CustomListBoxContentTool(storage=storage),\n",
    "    CustomMoveObjectsTool(storage=storage)\n",
    "]"
   ]
  },
  {
   "cell_type": "markdown",
   "id": "1794135b-2c60-4727-bc67-d13a113f1b8a",
   "metadata": {},
   "source": [
    "### Creating the agent"
   ]
  },
  {
   "cell_type": "code",
   "execution_count": 7,
   "id": "217014e1-a45a-455f-83da-159087d88fca",
   "metadata": {},
   "outputs": [],
   "source": [
    "from langchain.chat_models import ChatOpenAI\n",
    "llm = ChatOpenAI()"
   ]
  },
  {
   "cell_type": "code",
   "execution_count": 8,
   "id": "3edce09a-70e3-4cbc-ba25-9f1ac954f9c7",
   "metadata": {},
   "outputs": [],
   "source": [
    "agent = initialize_agent(\n",
    "    tools=tools,\n",
    "    llm=llm,\n",
    "    agent=AgentType.ZERO_SHOT_REACT_DESCRIPTION,\n",
    "    verbose=True,\n",
    "    handle_parsing_errors=True,\n",
    ")"
   ]
  },
  {
   "cell_type": "markdown",
   "id": "4e9e2613-9003-4291-8975-4db46f8e6c2f",
   "metadata": {},
   "source": [
    "### Starting the agent with a task"
   ]
  },
  {
   "cell_type": "code",
   "execution_count": 9,
   "id": "c0be03d7-cdce-43c8-9054-0d230f51d3fb",
   "metadata": {},
   "outputs": [
    {
     "name": "stdout",
     "output_type": "stream",
     "text": [
      "\n",
      "\n",
      "\u001b[1m> Entering new AgentExecutor chain...\u001b[0m\n",
      "\u001b[32;1m\u001b[1;3mFirst, I need to check the contents of box1 to see if there are any pears or apples. If there are, I need to move them to box2. I will need to keep checking and moving until there are no more pears or apples in box1.\n",
      "\n",
      "Action: list_boxes\n",
      "Action Input: \n",
      "\u001b[0m\n",
      "Observation: \u001b[36;1m\u001b[1;3mbox1, box2\u001b[0m\n",
      "Thought:\u001b[32;1m\u001b[1;3mI have the list of boxes: box1 and box2. Now I need to check the contents of box1.\n",
      "\n",
      "Action: box_contents\n",
      "Action Input: box1\n",
      "\u001b[0m\n",
      "Observation: \u001b[33;1m\u001b[1;3mpear, banana, apple\u001b[0m\n",
      "Thought:\u001b[32;1m\u001b[1;3mI see that box1 contains pears and apples. I need to move them to box2. Let me do that.\n",
      "\n",
      "Action: move_object\n",
      "Action Input: MOVE pear apple FROM box1 TO box2\n",
      "\u001b[0m\n",
      "Observation: \u001b[38;5;200m\u001b[1;3mNone\u001b[0m\n",
      "Thought:\u001b[32;1m\u001b[1;3mI have moved the pears and apples from box1 to box2. Now I need to check the contents of box1 again to see if there are any remaining pears or apples.\n",
      "\n",
      "Action: box_contents\n",
      "Action Input: box1\n",
      "\u001b[0m\n",
      "Observation: \u001b[33;1m\u001b[1;3mbanana\u001b[0m\n",
      "Thought:\u001b[32;1m\u001b[1;3mI see that box1 now only contains a banana. There are no more pears or apples in box1, so I can stop now.\n",
      "\n",
      "Thought: I now know the final answer.\n",
      "Final Answer: There are no more pears or apples in box1.\u001b[0m\n",
      "\n",
      "\u001b[1m> Finished chain.\u001b[0m\n"
     ]
    },
    {
     "data": {
      "text/plain": [
       "'There are no more pears or apples in box1.'"
      ]
     },
     "execution_count": 9,
     "metadata": {},
     "output_type": "execute_result"
    }
   ],
   "source": [
    "agent.run(\"\"\"\n",
    "    You are given some named boxes, each containing some named items,\n",
    "    and the tools to inspect and operate on them.\n",
    "    Verify if there are pears or apples in box1,\n",
    "    then move all of them to box2. You can move several objects at once,\n",
    "    if that is permitted by the available tools.\n",
    "    Stop when there are neither pears nor apples in box1.\n",
    "\"\"\")"
   ]
  },
  {
   "cell_type": "code",
   "execution_count": 10,
   "id": "69475d24-d693-4e92-8121-4395d5d22017",
   "metadata": {},
   "outputs": [
    {
     "name": "stdout",
     "output_type": "stream",
     "text": [
      "At the end: BoxStorage[box1=(banana), box2=(apple, bicycle, car, pear, train)]\n"
     ]
    }
   ],
   "source": [
    "print(f'At the end: {storage}')"
   ]
  }
 ],
 "metadata": {
  "kernelspec": {
   "display_name": "Python 3 (ipykernel)",
   "language": "python",
   "name": "python3"
  },
  "language_info": {
   "codemirror_mode": {
    "name": "ipython",
    "version": 3
   },
   "file_extension": ".py",
   "mimetype": "text/x-python",
   "name": "python",
   "nbconvert_exporter": "python",
   "pygments_lexer": "ipython3",
   "version": "3.10.12"
  }
 },
 "nbformat": 4,
 "nbformat_minor": 5
}
