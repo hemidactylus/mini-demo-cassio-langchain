{
 "cells": [
  {
   "cell_type": "markdown",
   "id": "dc5e3867-5bd3-477b-a4ac-951edeaf7fe2",
   "metadata": {},
   "source": [
    "# Demo 4 (LangChain, Vectors)\n",
    "\n",
    "Something more about vectors in LangChain"
   ]
  },
  {
   "cell_type": "code",
   "execution_count": 1,
   "id": "674896dc-38a2-41b6-aa37-770cbda44fbd",
   "metadata": {},
   "outputs": [],
   "source": [
    "import os\n",
    "import cassio\n",
    "\n",
    "cassio.init(\n",
    "    token=os.environ['ASTRA_DB_APPLICATION_TOKEN'],\n",
    "    database_id=os.environ['ASTRA_DB_ID'],\n",
    "    keyspace=os.environ.get('ASTRA_DB_KEYSPACE'),\n",
    ")"
   ]
  },
  {
   "cell_type": "code",
   "execution_count": 6,
   "id": "55ad28ad-05df-4112-9e5c-3b8d31ec667f",
   "metadata": {},
   "outputs": [],
   "source": [
    "from langchain.embeddings.openai import OpenAIEmbeddings\n",
    "from langchain.llms import OpenAI\n",
    "from langchain.vectorstores import Cassandra\n",
    "from langchain.indexes.vectorstore import VectorStoreIndexWrapper"
   ]
  },
  {
   "cell_type": "code",
   "execution_count": 3,
   "id": "8b587de1-a955-4e41-8bb9-948c53aea472",
   "metadata": {},
   "outputs": [],
   "source": [
    "oai_embeddings = OpenAIEmbeddings()\n",
    "oai_llm = OpenAI()"
   ]
  },
  {
   "cell_type": "markdown",
   "id": "ba082421-b6fc-4f19-b191-f748bfa91658",
   "metadata": {},
   "source": [
    "### We re-use the vector store from \"demo2\"\n",
    "\n",
    "Run that one to populate the store first."
   ]
  },
  {
   "cell_type": "code",
   "execution_count": 5,
   "id": "ad0ebaae-57ee-4fd1-b736-eaa221e30070",
   "metadata": {},
   "outputs": [],
   "source": [
    "demo4_store = Cassandra(\n",
    "    table_name='news_v_store',\n",
    "    embedding=oai_embeddings,\n",
    "    session=None,  # = get defaults from init()\n",
    "    keyspace=None,  # = get defaults from init()\n",
    ")"
   ]
  },
  {
   "cell_type": "markdown",
   "id": "f407e1e7-772d-41b7-92f7-6b869652fe6a",
   "metadata": {},
   "source": [
    "## Getting a score with the results\n",
    "\n",
    "This is the cosine similarity, scaled from zero to one (higher=more similar)"
   ]
  },
  {
   "cell_type": "code",
   "execution_count": 14,
   "id": "3c0b9984-60fd-4a65-b833-56591e775978",
   "metadata": {},
   "outputs": [
    {
     "name": "stdout",
     "output_type": "stream",
     "text": [
      "[0] \"Electrons move around so fast that they have been out of reach o\"... (0.9325)\n",
      "[1] \"But even when they \"see\" the electron, there's only so much they\"... (0.9271)\n",
      "[2] \"The scientists' experiments \"have given humanity new tools for e\"... (0.9235)\n"
     ]
    }
   ],
   "source": [
    "result_pairs = demo4_store.similarity_search_with_relevance_scores(\n",
    "    \"Someone found a way to peek at electrons better\",\n",
    "    k=3,\n",
    "    score_threshold=0.8,\n",
    ")\n",
    "for i, (doc, score) in enumerate(result_pairs):\n",
    "    print(f\"[{i}] \\\"{doc.page_content[:64]}\\\"... ({score:.4f})\")"
   ]
  },
  {
   "cell_type": "markdown",
   "id": "15818c68-7f0e-439b-aeab-a9ee1e5b5d9b",
   "metadata": {},
   "source": [
    "## MMR retrieval\n",
    "\n",
    "It is out-of-the-box in LangChain"
   ]
  },
  {
   "cell_type": "code",
   "execution_count": 26,
   "id": "91a2d774-2e35-44aa-b5db-4e3737360d5f",
   "metadata": {},
   "outputs": [
    {
     "name": "stdout",
     "output_type": "stream",
     "text": [
      "[0] \"Agostini is affiliated with Ohio State University in the U.S.\n",
      "\n",
      "T\"...\n",
      "[1] \"L'Huillier said she was teaching when she got the call that she \"...\n",
      "[2] \"The scientists' experiments \"have given humanity new tools for e\"...\n"
     ]
    }
   ],
   "source": [
    "result_docs = demo4_store.search(\n",
    "    \"Fancy a Nobel laureate?\",\n",
    "    search_type=\"mmr\",\n",
    "    fetch_k=8,\n",
    "    k=3,\n",
    ")\n",
    "for i, doc in enumerate(result_docs):\n",
    "    print(f\"[{i}] \\\"{doc.page_content[:64]}\\\"...\")"
   ]
  },
  {
   "cell_type": "markdown",
   "id": "8843e542-5d92-4c4a-80eb-023356f61e28",
   "metadata": {},
   "source": [
    "### Add more documents\n",
    "\n",
    "... with different metadata"
   ]
  },
  {
   "cell_type": "code",
   "execution_count": 43,
   "id": "804053ce-1f10-4207-942f-4c0c05fe6fd0",
   "metadata": {},
   "outputs": [],
   "source": [
    "falsehoods = [\n",
    "    \"Electrons are not so tiny after all, more like a tennis ball\",\n",
    "    \"The Nobel Prize in 2023 went to an oak tree for having dreamt of an electron\",\n",
    "    \"Nobody has ever seen an electron, they might not even exist\",\n",
    "]\n",
    "f_metadatas = [{\"status\": \"fake\"}] * 3\n",
    "\n",
    "_ = demo4_store.add_texts(falsehoods, f_metadatas)"
   ]
  },
  {
   "cell_type": "code",
   "execution_count": 44,
   "id": "d2328d9c-2614-4cfc-af47-d8494520336b",
   "metadata": {},
   "outputs": [],
   "source": [
    "index = VectorStoreIndexWrapper(vectorstore=demo4_store)"
   ]
  },
  {
   "cell_type": "markdown",
   "id": "5e173ba4-a86c-4b42-8157-be428135019e",
   "metadata": {},
   "source": [
    "## Metadata filtering\n",
    "\n",
    "Check the output with or without restricting the search to the fake entries:"
   ]
  },
  {
   "cell_type": "code",
   "execution_count": 45,
   "id": "8ace2993-abd4-4e49-bac1-12f05280442d",
   "metadata": {},
   "outputs": [
    {
     "name": "stdout",
     "output_type": "stream",
     "text": [
      " The Nobel Prize in Physics in 2023 was awarded to three scientists who have studied how electrons move around atoms in fractions of a second. This science could lead to better electronics, disease diagnoses, and better understanding of chemistry, physics, our bodies, and our gadgets. By studying the tiniest fraction of a second, scientists can gain a “blurry” glimpse of electrons, which could open up new sciences.\n"
     ]
    }
   ],
   "source": [
    "print(index.query(\"Tell me about electrons and the nobel prize\", llm=oai_llm))"
   ]
  },
  {
   "cell_type": "code",
   "execution_count": 47,
   "id": "a5747723-68ec-4944-a943-176f88205407",
   "metadata": {},
   "outputs": [
    {
     "name": "stdout",
     "output_type": "stream",
     "text": [
      " Electrons are tiny particles that make up atoms and are believed to be the smallest form of matter. They have never been seen because they are so small. In 2023, the Nobel Prize was given to an oak tree for having allegedly dreamt of an electron, despite the fact that the size of an electron is debated and may be larger than many people think.\n"
     ]
    }
   ],
   "source": [
    "retr_kwargs = {\"search_kwargs\": {\"filter\": {\"status\": \"fake\"}}}\n",
    "\n",
    "print(index.query(\"Tell me about electrons and the nobel prize\", llm=oai_llm, retriever_kwargs=retr_kwargs))"
   ]
  }
 ],
 "metadata": {
  "kernelspec": {
   "display_name": "Python 3 (ipykernel)",
   "language": "python",
   "name": "python3"
  },
  "language_info": {
   "codemirror_mode": {
    "name": "ipython",
    "version": 3
   },
   "file_extension": ".py",
   "mimetype": "text/x-python",
   "name": "python",
   "nbconvert_exporter": "python",
   "pygments_lexer": "ipython3",
   "version": "3.10.12"
  }
 },
 "nbformat": 4,
 "nbformat_minor": 5
}
