{
 "cells": [
  {
   "cell_type": "markdown",
   "id": "95105a17-3159-497c-93f6-d141bcfa9b76",
   "metadata": {},
   "source": [
    "# Demo 1 (from no-frameworks to frameworks)"
   ]
  },
  {
   "cell_type": "markdown",
   "id": "9f5cae01-c476-445a-9acb-bf84d3215777",
   "metadata": {},
   "source": [
    "#### Pre-requisites:\n",
    "\n",
    "Run [this colab](https://colab.research.google.com/github/openai/openai-cookbook/blob/main/examples/vector_databases/cassandra_astradb/Philosophical_Quotes_cassIO.ipynb) on your database at least up to populating the (non-partitioned) table (i.e. the \"Insert quotes into vector store\" cell)."
   ]
  },
  {
   "cell_type": "code",
   "execution_count": 1,
   "id": "9531bbed-a31f-4017-8e5f-4b2b46947f44",
   "metadata": {},
   "outputs": [],
   "source": [
    "import os\n",
    "import cassio\n",
    "\n",
    "cassio.init(\n",
    "    token=os.environ['ASTRA_DB_APPLICATION_TOKEN'],\n",
    "    database_id=os.environ['ASTRA_DB_ID'],\n",
    "    keyspace=os.environ.get('ASTRA_DB_KEYSPACE'),\n",
    ")"
   ]
  },
  {
   "cell_type": "code",
   "execution_count": 2,
   "id": "2100035f-4f38-46a9-ab2d-225b4b387387",
   "metadata": {},
   "outputs": [],
   "source": [
    "# create a vector store with cassIO\n",
    "from cassio.table import MetadataVectorCassandraTable\n",
    "\n",
    "v_table = MetadataVectorCassandraTable(table=\"philosophers_cassio\", vector_dimension=1536)"
   ]
  },
  {
   "cell_type": "code",
   "execution_count": 3,
   "id": "e031b219-cc13-4f25-85a8-33812bd6dd9b",
   "metadata": {},
   "outputs": [],
   "source": [
    "import openai\n",
    "\n",
    "openai.api_key = os.environ['OPENAI_API_KEY']\n",
    "\n",
    "embedding_model_name = \"text-embedding-ada-002\"\n",
    "completion_model_name = \"gpt-3.5-turbo\""
   ]
  },
  {
   "cell_type": "markdown",
   "id": "bd939039-13e4-46a1-81a5-b60a227dd18b",
   "metadata": {},
   "source": [
    "## Quote generator, no frameworks"
   ]
  },
  {
   "cell_type": "code",
   "execution_count": 4,
   "id": "ef106335-d5e5-4e65-a665-d141c06f8718",
   "metadata": {},
   "outputs": [],
   "source": [
    "def find_quote_and_author(query_quote, n, author=None, tags=None):\n",
    "    query_vector = openai.Embedding.create(                                            # <=== Direct OpenAI (embeddings)\n",
    "        input=[query_quote],\n",
    "        engine=embedding_model_name,\n",
    "    ).data[0].embedding\n",
    "    metadata = {}\n",
    "    if author:\n",
    "        metadata[\"author\"] = author\n",
    "    if tags:\n",
    "        for tag in tags:\n",
    "            metadata[tag] = True\n",
    "    #\n",
    "    results = v_table.ann_search(\n",
    "        query_vector,\n",
    "        n=n,\n",
    "        metadata=metadata,\n",
    "    )\n",
    "    return [\n",
    "        (result[\"body_blob\"], result[\"metadata\"][\"author\"])\n",
    "        for result in results\n",
    "    ]"
   ]
  },
  {
   "cell_type": "code",
   "execution_count": 5,
   "id": "02fe7479-fa69-4d96-aba8-02dc6c23fca6",
   "metadata": {},
   "outputs": [],
   "source": [
    "generation_prompt_template = \"\"\"\"Generate a single short philosophical quote on the given topic,\n",
    "similar in spirit and form to the provided actual example quotes.\n",
    "Do not exceed 20-30 words in your quote.\n",
    "\n",
    "REFERENCE TOPIC: \"{topic}\"\n",
    "\n",
    "ACTUAL EXAMPLES:\n",
    "{examples}\n",
    "\"\"\""
   ]
  },
  {
   "cell_type": "code",
   "execution_count": 6,
   "id": "9a311ca7-eb54-4039-b1c1-ed1aa3dbdf04",
   "metadata": {},
   "outputs": [],
   "source": [
    "def generate_quote(topic, n=2, author=None, tags=None):\n",
    "    quotes = find_quote_and_author(query_quote=topic, n=n, author=author, tags=tags)\n",
    "    if quotes:\n",
    "        prompt = generation_prompt_template.format(\n",
    "            topic=topic,\n",
    "            examples=\"\\n\".join(f\"  - {quote[0]}\" for quote in quotes),\n",
    "        )\n",
    "        # a little logging:\n",
    "        print(\"** quotes found:\")\n",
    "        for q, a in quotes:\n",
    "            print(f\"**    - {q} ({a})\")\n",
    "        print(\"** end of logging\")\n",
    "        #\n",
    "        response = openai.ChatCompletion.create(                                       # <=== Direct OpenAI (LLM)\n",
    "            model=completion_model_name,\n",
    "            messages=[{\"role\": \"user\", \"content\": prompt}],\n",
    "            temperature=0.7,\n",
    "            max_tokens=320,\n",
    "        )\n",
    "        return response.choices[0].message.content.replace('\"', '').strip()\n",
    "    else:\n",
    "        print(\"** no quotes found.\")\n",
    "        return None"
   ]
  },
  {
   "cell_type": "markdown",
   "id": "cda2668c-b84f-425c-8ec6-5b80d5d92ee8",
   "metadata": {},
   "source": [
    "### Testing"
   ]
  },
  {
   "cell_type": "code",
   "execution_count": 7,
   "id": "34bb5d46-a262-43c5-a181-65fad63c8ac6",
   "metadata": {},
   "outputs": [
    {
     "name": "stdout",
     "output_type": "stream",
     "text": [
      "** quotes found:\n",
      "**    - Because Christian morality leaves animals out of account, they are at once outlawed in philosophical morals; they are mere 'things,' mere means to any ends whatsoever. They can therefore be used for vivisection, hunting, coursing, bullfights, and horse racing, and can be whipped to death as they struggle along with heavy carts of stone. Shame on such a morality that is worthy of pariahs, and that fails to recognize the eternal essence that exists in every living thing, and shines forth with inscrutable significance from all eyes that see the sun! (schopenhauer)\n",
      "**    - The assumption that animals are without rights, and the illusion that our treatment of them has no moral significance, is a positively outrageous example of Western crudity and barbarity. Universal compassion is the only guarantee of morality. (schopenhauer)\n",
      "** end of logging\n",
      "\n",
      "A new generated quote:\n",
      "In the eyes of morality, animals are not mere objects to be exploited; their intrinsic essence demands our compassion and recognition of their rights.\n"
     ]
    }
   ],
   "source": [
    "q_topic = generate_quote(\"animals\", author=\"schopenhauer\")\n",
    "print(\"\\nA new generated quote:\")\n",
    "print(q_topic)"
   ]
  },
  {
   "cell_type": "markdown",
   "id": "f0a09326-1321-42d2-9920-b908a3048461",
   "metadata": {},
   "source": [
    "## LangChain-ify\n",
    "\n",
    "_Note: this example is designed so that the table population in the pre-requisites has a schema compatible with what'll come!_"
   ]
  },
  {
   "cell_type": "code",
   "execution_count": 8,
   "id": "d177071d-9f2f-4fb2-9cfa-e9f69f229ef9",
   "metadata": {},
   "outputs": [],
   "source": [
    "from langchain.chains import RetrievalQA\n",
    "from langchain.embeddings.openai import OpenAIEmbeddings\n",
    "from langchain.llms import OpenAI\n",
    "from langchain.vectorstores import Cassandra\n",
    "from langchain.prompts import PromptTemplate"
   ]
  },
  {
   "cell_type": "markdown",
   "id": "bc7e27c1-a6e6-43af-8cef-3e267e6df617",
   "metadata": {},
   "source": [
    "Create the LangChain \"vector store\""
   ]
  },
  {
   "cell_type": "code",
   "execution_count": 9,
   "id": "581cbca6-b0e2-431e-a2b8-df539d6a2aab",
   "metadata": {},
   "outputs": [
    {
     "name": "stderr",
     "output_type": "stream",
     "text": [
      "/home/stefano/.virtualenvs/genai-learning-day-3-10/lib/python3.10/site-packages/langchain/llms/openai.py:202: UserWarning: You are trying to use a chat model. This way of initializing it is no longer supported. Instead, please use: `from langchain.chat_models import ChatOpenAI`\n",
      "  warnings.warn(\n",
      "/home/stefano/.virtualenvs/genai-learning-day-3-10/lib/python3.10/site-packages/langchain/llms/openai.py:790: UserWarning: You are trying to use a chat model. This way of initializing it is no longer supported. Instead, please use: `from langchain.chat_models import ChatOpenAI`\n",
      "  warnings.warn(\n"
     ]
    }
   ],
   "source": [
    "oai_embeddings = OpenAIEmbeddings(model=embedding_model_name)\n",
    "oai_llm = OpenAI(model_name=completion_model_name)\n",
    "\n",
    "vec_store = Cassandra(\n",
    "    table_name='philosophers_cassio',\n",
    "    embedding=oai_embeddings,\n",
    "    session=None,  # = get defaults from init()\n",
    "    keyspace=None,  # = get defaults from init()\n",
    ")"
   ]
  },
  {
   "cell_type": "code",
   "execution_count": 10,
   "id": "198e4bdd-9f45-4be0-a08d-df543420e5c5",
   "metadata": {},
   "outputs": [],
   "source": [
    "prompt_template = \"\"\"Generate a single short philosophical quote on the given topic,\n",
    "similar in spirit and form to the provided actual example quotes.\n",
    "Do not exceed 20-30 words in your quote.\n",
    "\n",
    "REFERENCE TOPIC: \"{question}\"\n",
    "\n",
    "ACTUAL EXAMPLES:\n",
    "{context}\n",
    "\n",
    "ANSWER:\n",
    "\"\"\"\n",
    "\n",
    "philo_prompt = PromptTemplate(template=prompt_template, input_variables=[\"context\", \"question\"])\n",
    "\n",
    "chain_type_kwargs = {\"prompt\": philo_prompt}"
   ]
  },
  {
   "cell_type": "markdown",
   "id": "36f93403-d2fe-49f6-b0b7-2361cd143cd1",
   "metadata": {},
   "source": [
    "### The core of the app, LangChain version"
   ]
  },
  {
   "cell_type": "code",
   "execution_count": 11,
   "id": "432560fa-d4b3-42c4-857d-9fbdb4921a98",
   "metadata": {},
   "outputs": [],
   "source": [
    "def generate_quote(topic, n=2, author=None, tags=None):\n",
    "    # Nontrivial metadata construction\n",
    "    # Awkward for customization (nesting of dictionaries, and the partitioned case is worse)\n",
    "    # must fiddle with prompt to handle the no-results case (hallucination risk)\n",
    "    if tags:\n",
    "        _from_tags = {t: True for t in tags}\n",
    "    else:\n",
    "        _from_tags = {}\n",
    "    if author:\n",
    "        _from_author = {'author': author}\n",
    "    else:\n",
    "        _from_author = {}\n",
    "    #\n",
    "    vstore_search_kwargs = {\n",
    "        **{'k': n},\n",
    "        **_from_author,\n",
    "        **_from_tags,\n",
    "    }\n",
    "    qa = RetrievalQA.from_chain_type(\n",
    "        llm=oai_llm,\n",
    "        chain_type=\"stuff\",\n",
    "        retriever=vec_store.as_retriever(search_kwargs=vstore_search_kwargs),          #  <== not the most intuitive thing to do, eh?\n",
    "        chain_type_kwargs=chain_type_kwargs,\n",
    "        return_source_documents=True\n",
    "    )\n",
    "    answer = qa({'query': topic})\n",
    "    if answer['source_documents']:\n",
    "        # a little logging:\n",
    "        print(\"** quotes found:\")\n",
    "        for q in answer['source_documents']:\n",
    "            print(f\"**    - {q.page_content})\")\n",
    "        print(\"** end of logging\")\n",
    "        #\n",
    "        return answer['result'].strip()\n",
    "    else:\n",
    "        print(\"** no quotes found.\")\n",
    "        return None"
   ]
  },
  {
   "cell_type": "markdown",
   "id": "895c0488-c6dd-4201-90a5-5c79fac08079",
   "metadata": {},
   "source": [
    "### Testing"
   ]
  },
  {
   "cell_type": "code",
   "execution_count": 12,
   "id": "495b2ef0-4f20-432a-bd71-7cd860aea88e",
   "metadata": {},
   "outputs": [
    {
     "name": "stdout",
     "output_type": "stream",
     "text": [
      "** quotes found:\n",
      "**    - Because Christian morality leaves animals out of account, they are at once outlawed in philosophical morals; they are mere 'things,' mere means to any ends whatsoever. They can therefore be used for vivisection, hunting, coursing, bullfights, and horse racing, and can be whipped to death as they struggle along with heavy carts of stone. Shame on such a morality that is worthy of pariahs, and that fails to recognize the eternal essence that exists in every living thing, and shines forth with inscrutable significance from all eyes that see the sun!)\n",
      "**    - Animals are in possession of themselves; their soul is in possession of their body. But they have no right to their life, because they do not will it.)\n",
      "** end of logging\n"
     ]
    },
    {
     "data": {
      "text/plain": [
       "'Animals possess wisdom beyond our comprehension, yet we deny their inherent rights, suppressing the divine essence that dwells within their being.'"
      ]
     },
     "execution_count": 12,
     "metadata": {},
     "output_type": "execute_result"
    }
   ],
   "source": [
    "generate_quote('animals')"
   ]
  },
  {
   "cell_type": "code",
   "execution_count": 13,
   "id": "7e329ac0-b503-4ead-8584-6fb4469cd563",
   "metadata": {},
   "outputs": [
    {
     "name": "stdout",
     "output_type": "stream",
     "text": [
      "** quotes found:\n",
      "**    - Because Christian morality leaves animals out of account, they are at once outlawed in philosophical morals; they are mere 'things,' mere means to any ends whatsoever. They can therefore be used for vivisection, hunting, coursing, bullfights, and horse racing, and can be whipped to death as they struggle along with heavy carts of stone. Shame on such a morality that is worthy of pariahs, and that fails to recognize the eternal essence that exists in every living thing, and shines forth with inscrutable significance from all eyes that see the sun!)\n",
      "**    - Animals are in possession of themselves; their soul is in possession of their body. But they have no right to their life, because they do not will it.)\n",
      "** end of logging\n"
     ]
    },
    {
     "data": {
      "text/plain": [
       "'\"The true measure of humanity lies in our treatment of animals, recognizing their inherent worth and granting them the dignity they deserve.\"'"
      ]
     },
     "execution_count": 13,
     "metadata": {},
     "output_type": "execute_result"
    }
   ],
   "source": [
    "generate_quote('animals', author='spinoza')"
   ]
  },
  {
   "cell_type": "code",
   "execution_count": 14,
   "id": "8eb9db33-f917-4377-8d28-e03d7ed0a635",
   "metadata": {},
   "outputs": [
    {
     "name": "stdout",
     "output_type": "stream",
     "text": [
      "** quotes found:\n",
      "**    - Because Christian morality leaves animals out of account, they are at once outlawed in philosophical morals; they are mere 'things,' mere means to any ends whatsoever. They can therefore be used for vivisection, hunting, coursing, bullfights, and horse racing, and can be whipped to death as they struggle along with heavy carts of stone. Shame on such a morality that is worthy of pariahs, and that fails to recognize the eternal essence that exists in every living thing, and shines forth with inscrutable significance from all eyes that see the sun!)\n",
      "**    - Animals are in possession of themselves; their soul is in possession of their body. But they have no right to their life, because they do not will it.)\n",
      "** end of logging\n"
     ]
    },
    {
     "data": {
      "text/plain": [
       "'In the eyes of philosophy, animals are reduced to mere objects, stripped of their inherent worth and used for our own desires. Let us acknowledge their essence and value, shining through every living being.'"
      ]
     },
     "execution_count": 14,
     "metadata": {},
     "output_type": "execute_result"
    }
   ],
   "source": [
    "generate_quote('animals', author='spinoza', tags=['politics'])"
   ]
  },
  {
   "cell_type": "code",
   "execution_count": 15,
   "id": "722342c4-c78f-4ce1-8d9f-6e2df26a2d65",
   "metadata": {},
   "outputs": [
    {
     "name": "stdout",
     "output_type": "stream",
     "text": [
      "** quotes found:\n",
      "**    - Because Christian morality leaves animals out of account, they are at once outlawed in philosophical morals; they are mere 'things,' mere means to any ends whatsoever. They can therefore be used for vivisection, hunting, coursing, bullfights, and horse racing, and can be whipped to death as they struggle along with heavy carts of stone. Shame on such a morality that is worthy of pariahs, and that fails to recognize the eternal essence that exists in every living thing, and shines forth with inscrutable significance from all eyes that see the sun!)\n",
      "**    - Animals are in possession of themselves; their soul is in possession of their body. But they have no right to their life, because they do not will it.)\n",
      "** end of logging\n"
     ]
    },
    {
     "data": {
      "text/plain": [
       "'Animals are not just possessions, but beings with souls, deserving of respect and recognition of their inherent worth.'"
      ]
     },
     "execution_count": 15,
     "metadata": {},
     "output_type": "execute_result"
    }
   ],
   "source": [
    "generate_quote('animals', tags=['politics'])"
   ]
  }
 ],
 "metadata": {
  "kernelspec": {
   "display_name": "Python 3 (ipykernel)",
   "language": "python",
   "name": "python3"
  },
  "language_info": {
   "codemirror_mode": {
    "name": "ipython",
    "version": 3
   },
   "file_extension": ".py",
   "mimetype": "text/x-python",
   "name": "python",
   "nbconvert_exporter": "python",
   "pygments_lexer": "ipython3",
   "version": "3.10.12"
  }
 },
 "nbformat": 4,
 "nbformat_minor": 5
}
