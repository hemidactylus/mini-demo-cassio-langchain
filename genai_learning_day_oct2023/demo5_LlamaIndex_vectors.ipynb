{
 "cells": [
  {
   "cell_type": "markdown",
   "id": "df0fd604-9a02-4fb2-a88f-ce6f22a91cda",
   "metadata": {},
   "source": [
    "# Demo 5 (LlamaIndex, vectors)"
   ]
  },
  {
   "cell_type": "code",
   "execution_count": 1,
   "id": "db70f8d9-644a-47f4-b719-1e34eb50d296",
   "metadata": {},
   "outputs": [],
   "source": [
    "import os\n",
    "import cassio\n",
    "\n",
    "cassio.init(\n",
    "    token=os.environ['ASTRA_DB_APPLICATION_TOKEN'],\n",
    "    database_id=os.environ['ASTRA_DB_ID'],\n",
    "    keyspace=os.environ.get('ASTRA_DB_KEYSPACE'),\n",
    ")"
   ]
  },
  {
   "cell_type": "code",
   "execution_count": 2,
   "id": "4b9706e8-f587-4317-b0dd-a9a5edd6b0ba",
   "metadata": {},
   "outputs": [],
   "source": [
    "from llama_index import VectorStoreIndex, StorageContext\n",
    "from llama_index.vector_stores import CassandraVectorStore\n",
    "from llama_index import VectorStoreIndex\n",
    "\n",
    "from llama_index import ServiceContext\n",
    "from llama_index import set_global_service_context\n",
    "\n",
    "from llama_index import SimpleWebPageReader\n",
    "from llama_index.node_parser import SimpleNodeParser\n",
    "from llama_index.node_parser.extractors import (\n",
    "    MetadataExtractor,\n",
    "    MetadataFeatureExtractor,\n",
    ")\n",
    "\n",
    "from llama_index.vector_stores.types import ExactMatchFilter, MetadataFilters\n",
    "\n",
    "from llama_index.llms import OpenAI\n",
    "from llama_index.embeddings import OpenAIEmbedding"
   ]
  },
  {
   "cell_type": "code",
   "execution_count": 3,
   "id": "59546c5b-cf6a-4574-b7a6-fc4c4804b868",
   "metadata": {},
   "outputs": [],
   "source": [
    "oai_llm = OpenAI()\n",
    "oai_embeddings = OpenAIEmbedding()\n",
    "vector_dimension = 1536"
   ]
  },
  {
   "cell_type": "code",
   "execution_count": 4,
   "id": "7d5793ac-d241-49ff-b2f7-a66e1b830f76",
   "metadata": {},
   "outputs": [],
   "source": [
    "service_context = ServiceContext.from_defaults(\n",
    "    llm=oai_llm,\n",
    "    embed_model=oai_embeddings,\n",
    "    chunk_size=256,\n",
    ")\n",
    "set_global_service_context(service_context)"
   ]
  },
  {
   "cell_type": "code",
   "execution_count": 5,
   "id": "84d13c2c-31e0-4919-bab3-6fd1d53c01ee",
   "metadata": {},
   "outputs": [],
   "source": [
    "my_v_store = CassandraVectorStore(\n",
    "    table='llama_news_v_store',\n",
    "    embedding_dimension=vector_dimension,\n",
    "    insertion_batch_size=30,\n",
    "    session=None,\n",
    "    keyspace=None,\n",
    ")\n",
    "\n",
    "storage_context = StorageContext.from_defaults(vector_store=my_v_store)"
   ]
  },
  {
   "cell_type": "markdown",
   "id": "16ac9895-4173-43f6-80b7-232deaa228d4",
   "metadata": {},
   "source": [
    "#### Custom metadata\n",
    "\n",
    "This cell constructs a custom extractor that inspects the node content to generate its metadata dict:"
   ]
  },
  {
   "cell_type": "code",
   "execution_count": 7,
   "id": "85dea1b9-d808-4f81-a0bc-f69169cd1153",
   "metadata": {},
   "outputs": [],
   "source": [
    "class CovidMentionExtractor(MetadataFeatureExtractor):\n",
    "\n",
    "    def class_name(self):\n",
    "        return 'covid_mention_extractor'\n",
    "    \n",
    "    def extract(self, nodes):\n",
    "        return [\n",
    "            {\n",
    "                # contrived metadata for demonstration purposes\n",
    "                \"mentions_covid\": \"covid\" in node.text.lower(),\n",
    "                \"mentions_recipients\": \"weissman\" in node.text.lower() or \"kariko\" in node.text.lower()\n",
    "            }\n",
    "            for node in nodes\n",
    "        ]\n",
    "\n",
    "md_extractor = MetadataExtractor(extractors=[CovidMentionExtractor()])"
   ]
  },
  {
   "cell_type": "code",
   "execution_count": 8,
   "id": "382a1690-4913-416a-b7e1-ebc293dca4e6",
   "metadata": {},
   "outputs": [
    {
     "name": "stdout",
     "output_type": "stream",
     "text": [
      "Documents: 1 => 19 nodes.\n"
     ]
    }
   ],
   "source": [
    "src_url = 'https://www.washingtonpost.com/science/2023/10/02/nobel-prize-medicine/'\n",
    "\n",
    "node_parser = SimpleNodeParser.from_defaults(\n",
    "    chunk_size=400,\n",
    "    chunk_overlap=80,\n",
    "    metadata_extractor=md_extractor,\n",
    ")\n",
    "\n",
    "documents = SimpleWebPageReader(html_to_text=True).load_data([src_url])\n",
    "nodes = node_parser.get_nodes_from_documents(documents)\n",
    "\n",
    "print(f\"Documents: {len(documents)} => {len(nodes)} nodes.\")"
   ]
  },
  {
   "cell_type": "code",
   "execution_count": 9,
   "id": "5d85c6d6-c92e-463e-8b2e-16f03bc307e3",
   "metadata": {},
   "outputs": [],
   "source": [
    "my_v_index = VectorStoreIndex.from_vector_store(vector_store=my_v_store)\n",
    "\n",
    "my_v_index.insert_nodes(nodes)"
   ]
  },
  {
   "cell_type": "markdown",
   "id": "dca1be38-5dc2-4f43-98b2-2e1a9077d238",
   "metadata": {},
   "source": [
    "## Query"
   ]
  },
  {
   "cell_type": "markdown",
   "id": "d0a9000e-dab5-475e-80a6-59632d04f521",
   "metadata": {},
   "source": [
    "### Simple query"
   ]
  },
  {
   "cell_type": "code",
   "execution_count": 10,
   "id": "7354f8a8-c355-4516-a4a5-e08e3a48cff5",
   "metadata": {},
   "outputs": [
    {
     "name": "stdout",
     "output_type": "stream",
     "text": [
      "Katalin Karikó and Drew Weissman won the Nobel Prize in Medicine in 2023.\n"
     ]
    }
   ],
   "source": [
    "query_engine = my_v_index.as_query_engine(similarity_top_k=3)\n",
    "q_result = query_engine.query(\"Who won the Nobel Prize or Medicine in 2023?\")\n",
    "print(q_result.response.strip())"
   ]
  },
  {
   "cell_type": "markdown",
   "id": "3c7d970d-2905-444f-9e2e-54be4eed8ad9",
   "metadata": {},
   "source": [
    "### MMR retrieval"
   ]
  },
  {
   "cell_type": "code",
   "execution_count": 11,
   "id": "ad23e7b3-73d2-4898-8c81-41143fd2562d",
   "metadata": {},
   "outputs": [
    {
     "name": "stdout",
     "output_type": "stream",
     "text": [
      "Katalin Karikó and Drew Weissman won the Nobel Prize in Medicine in 2023.\n"
     ]
    }
   ],
   "source": [
    "query_engine_mmr = my_v_index.as_query_engine(\n",
    "    similarity_top_k=3,\n",
    "    vector_store_query_mode=\"mmr\",\n",
    "    vector_store_kwargs={\n",
    "        \"mmr_prefetch_k\": 8,\n",
    "    },\n",
    ")\n",
    "q_result_mmr = query_engine_mmr.query(\"Who won the Nobel Prize or Medicine in 2023?\")\n",
    "print(q_result_mmr.response.strip())"
   ]
  },
  {
   "cell_type": "markdown",
   "id": "bf174ccb-57ab-4d6f-85a3-f845ae3a057a",
   "metadata": {},
   "source": [
    "### Metadata filtering\n",
    "\n",
    "We hide the _names_ of the recipients and try the question again:"
   ]
  },
  {
   "cell_type": "code",
   "execution_count": 12,
   "id": "4c28114a-0000-4ec3-9695-1c954fb29450",
   "metadata": {},
   "outputs": [
    {
     "name": "stdout",
     "output_type": "stream",
     "text": [
      "The Nobel Prize in Medicine in 2023 was awarded to scientists who laid the foundation for messenger RNA vaccines.\n"
     ]
    }
   ],
   "source": [
    "query_engine = my_v_index.as_query_engine(\n",
    "    similarity_top_k=3,\n",
    "    filters=MetadataFilters(filters=[\n",
    "        ExactMatchFilter(key=\"mentions_recipients\", value=\"false\"),\n",
    "    ])\n",
    ")\n",
    "q_result = query_engine.query(\"Who won the Nobel Prize or Medicine in 2023?\")\n",
    "print(q_result.response.strip())"
   ]
  }
 ],
 "metadata": {
  "kernelspec": {
   "display_name": "Python 3 (ipykernel)",
   "language": "python",
   "name": "python3"
  },
  "language_info": {
   "codemirror_mode": {
    "name": "ipython",
    "version": 3
   },
   "file_extension": ".py",
   "mimetype": "text/x-python",
   "name": "python",
   "nbconvert_exporter": "python",
   "pygments_lexer": "ipython3",
   "version": "3.10.12"
  }
 },
 "nbformat": 4,
 "nbformat_minor": 5
}
